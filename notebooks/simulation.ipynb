{
 "cells": [
  {
   "cell_type": "code",
   "execution_count": 1,
   "metadata": {},
   "outputs": [],
   "source": [
    "import sys\n",
    "import os\n",
    "sys.path.append('../src/scripts')\n",
    "sys.path.append('../src/classes')\n",
    "from simulation import Simulation"
   ]
  },
  {
   "cell_type": "code",
   "execution_count": 2,
   "metadata": {},
   "outputs": [],
   "source": [
    "row_count = 5\n",
    "column_count = 5\n",
    "max_iterations = 1\n",
    "max_vehicle_count = 1\n",
    "iteration_vehicle_generation = 1\n",
    "\n",
    "min_road_delay = 5\n",
    "max_road_delay = 10\n"
   ]
  },
  {
   "cell_type": "code",
   "execution_count": 3,
   "metadata": {},
   "outputs": [
    {
     "name": "stdout",
     "output_type": "stream",
     "text": [
      "road 1 generated direction 1, row_index=None, column_index=1 start_x=6, start_y=1 end_x=0 end_y=1\n",
      "road 2 generated direction 3, row_index=None, column_index=2 start_x=0, start_y=2 end_x=6 end_y=2\n",
      "road 3 generated direction 1, row_index=None, column_index=3 start_x=6, start_y=3 end_x=0 end_y=3\n",
      "road 4 generated direction 3, row_index=None, column_index=4 start_x=0, start_y=4 end_x=6 end_y=4\n",
      "road 5 generated direction 1, row_index=None, column_index=5 start_x=6, start_y=5 end_x=0 end_y=5\n",
      "road 6 generated direction 2, row_index=1, column_index=None start_x=1, start_y=0 end_x=1 end_y=6\n",
      "road 7 generated direction 4, row_index=2, column_index=None start_x=2, start_y=6 end_x=2 end_y=0\n",
      "road 8 generated direction 2, row_index=3, column_index=None start_x=3, start_y=0 end_x=3 end_y=6\n",
      "road 9 generated direction 4, row_index=4, column_index=None start_x=4, start_y=6 end_x=4 end_y=0\n",
      "road 10 generated direction 2, row_index=5, column_index=None start_x=5, start_y=0 end_x=5 end_y=6\n",
      "initialize_vertical and horizontal _roads\n",
      "road1, added to vertical roads\n",
      "road2, added to vertical roads\n",
      "road3, added to vertical roads\n",
      "road4, added to vertical roads\n",
      "road5, added to vertical roads\n",
      "road6, added to horizontal roads\n",
      "road7, added to horizontal roads\n",
      "road8, added to horizontal roads\n",
      "road9, added to horizontal roads\n",
      "road10, added to horizontal roads\n",
      "four way:1 x:1 y:1, horizontal_road 6, vertical_road 1\n",
      "four way:2 x:1 y:2, horizontal_road 6, vertical_road 2\n",
      "four way:3 x:1 y:3, horizontal_road 6, vertical_road 3\n",
      "four way:4 x:1 y:4, horizontal_road 6, vertical_road 4\n",
      "four way:5 x:1 y:5, horizontal_road 6, vertical_road 5\n",
      "four way:6 x:2 y:1, horizontal_road 7, vertical_road 1\n",
      "four way:7 x:2 y:2, horizontal_road 7, vertical_road 2\n",
      "four way:8 x:2 y:3, horizontal_road 7, vertical_road 3\n",
      "four way:9 x:2 y:4, horizontal_road 7, vertical_road 4\n",
      "four way:10 x:2 y:5, horizontal_road 7, vertical_road 5\n",
      "four way:11 x:3 y:1, horizontal_road 8, vertical_road 1\n",
      "four way:12 x:3 y:2, horizontal_road 8, vertical_road 2\n",
      "four way:13 x:3 y:3, horizontal_road 8, vertical_road 3\n",
      "four way:14 x:3 y:4, horizontal_road 8, vertical_road 4\n",
      "four way:15 x:3 y:5, horizontal_road 8, vertical_road 5\n",
      "four way:16 x:4 y:1, horizontal_road 9, vertical_road 1\n",
      "four way:17 x:4 y:2, horizontal_road 9, vertical_road 2\n",
      "four way:18 x:4 y:3, horizontal_road 9, vertical_road 3\n",
      "four way:19 x:4 y:4, horizontal_road 9, vertical_road 4\n",
      "four way:20 x:4 y:5, horizontal_road 9, vertical_road 5\n",
      "four way:21 x:5 y:1, horizontal_road 10, vertical_road 1\n",
      "four way:22 x:5 y:2, horizontal_road 10, vertical_road 2\n",
      "four way:23 x:5 y:3, horizontal_road 10, vertical_road 3\n",
      "four way:24 x:5 y:4, horizontal_road 10, vertical_road 4\n",
      "four way:25 x:5 y:5, horizontal_road 10, vertical_road 5\n",
      "Simulation Started!!-----------------------------------------------------------------------\n",
      "iteration: 0 started-------------------------------------------------\n",
      "Vehicle 1 start_road:8, start_x:3, start_y:0  , end_road:9 end_x:4, end_y:0, time=0 \n",
      "iteration: 0 ended-------------------------------------------------------\n"
     ]
    }
   ],
   "source": [
    "simulation = Simulation(row_count, column_count, max_iterations, max_vehicle_count, iteration_vehicle_generation)\n",
    "simulation.run()"
   ]
  }
 ],
 "metadata": {
  "kernelspec": {
   "display_name": "Python 3 (ipykernel)",
   "language": "python",
   "name": "python3"
  },
  "language_info": {
   "codemirror_mode": {
    "name": "ipython",
    "version": 3
   },
   "file_extension": ".py",
   "mimetype": "text/x-python",
   "name": "python",
   "nbconvert_exporter": "python",
   "pygments_lexer": "ipython3",
   "version": "3.12.7"
  }
 },
 "nbformat": 4,
 "nbformat_minor": 2
}
