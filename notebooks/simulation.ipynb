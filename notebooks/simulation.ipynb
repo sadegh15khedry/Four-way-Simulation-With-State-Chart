{
 "cells": [
  {
   "cell_type": "code",
   "execution_count": 1,
   "metadata": {},
   "outputs": [],
   "source": [
    "import sys\n",
    "import os\n",
    "sys.path.append('../src/scripts')\n",
    "sys.path.append('../src/classes')\n",
    "from simulation import Simulation"
   ]
  },
  {
   "cell_type": "code",
   "execution_count": 2,
   "metadata": {},
   "outputs": [],
   "source": [
    "\n",
    "row_count = 1\n",
    "column_count = 1\n",
    "max_iterations = 20\n",
    "max_vehicle_count = 1\n",
    "iteration_vehicle_generation = 1\n",
    "\n",
    "method = 'default'\n",
    "min_road_time = 5\n",
    "max_road_time = 10\n",
    "yellow_timer = 3\n",
    "default_timer = 30"
   ]
  },
  {
   "cell_type": "code",
   "execution_count": 3,
   "metadata": {},
   "outputs": [
    {
     "name": "stdout",
     "output_type": "stream",
     "text": [
      "road 1 generated direction 1, row_index=None, column_index=1 start_x=0, start_y=1 end_x=2 end_y=1\n",
      "road 2 generated direction 2, row_index=1, column_index=None start_x=1, start_y=0 end_x=1 end_y=2\n",
      "initialize_vertical and horizontal _roads\n",
      "four way:1 x:1 y:1, horizontal_road 2, vertical_road 1\n",
      "four_way: 1, vertical_status:red v_time_remaining:33, horizontal_status:green h_time_remaining:30\n",
      "node:1 x:0 y:1\n",
      "node:2 x:2 y:1\n",
      "node:3 x:1 y:0\n",
      "node:4 x:1 y:2\n",
      "node:5 x:1 y:1\n",
      "rowNone column:1, direction1\n",
      "row1 column:None, direction2\n"
     ]
    },
    {
     "data": {
      "image/png": "[encoded data removed]",
      "text/plain": [
       "<Figure size 640x480 with 1 Axes>"
      ]
     },
     "metadata": {},
     "output_type": "display_data"
    },
    {
     "name": "stdout",
     "output_type": "stream",
     "text": [
      "Simulation Started!!--------------------------------------------------------------------------\n",
      "iteration:0 started-------------------------------------------------\n",
      "Vehicle 1 start_road:2, start_x:1, start_y:0  , end_road:2 end_x:1, end_y:2, time=0 \n",
      "path: [{'x': 1, 'y': 0, 'weight': 0}, {'x': 1, 'y': 1, 'weight': 6}, {'x': 1, 'y': 2, 'weight': 5}]\n",
      "four_way: 1, vertical_status:red v_time_remaining:32, horizontal_status:green h_time_remaining:29\n",
      "Vehicle 1 is on the way  to 1, 1)\n",
      "{'type': 'moving', 'setting time': 0, 'destination': (1, 1), 'reaching_time': 6}\n",
      "iteration: 0 ended-------------------------------------------------------\n",
      "\n",
      "iteration:1 started-------------------------------------------------\n",
      "four_way: 1, vertical_status:red v_time_remaining:31, horizontal_status:green h_time_remaining:28\n",
      "iteration: 1 ended-------------------------------------------------------\n",
      "\n",
      "iteration:2 started-------------------------------------------------\n",
      "four_way: 1, vertical_status:red v_time_remaining:30, horizontal_status:green h_time_remaining:27\n",
      "iteration: 2 ended-------------------------------------------------------\n",
      "\n",
      "iteration:3 started-------------------------------------------------\n",
      "four_way: 1, vertical_status:red v_time_remaining:29, horizontal_status:green h_time_remaining:26\n",
      "iteration: 3 ended-------------------------------------------------------\n",
      "\n",
      "iteration:4 started-------------------------------------------------\n",
      "four_way: 1, vertical_status:red v_time_remaining:28, horizontal_status:green h_time_remaining:25\n",
      "iteration: 4 ended-------------------------------------------------------\n",
      "\n",
      "iteration:5 started-------------------------------------------------\n",
      "four_way: 1, vertical_status:red v_time_remaining:27, horizontal_status:green h_time_remaining:24\n",
      "iteration: 5 ended-------------------------------------------------------\n",
      "\n",
      "iteration:6 started-------------------------------------------------\n",
      "four_way: 1, vertical_status:red v_time_remaining:26, horizontal_status:green h_time_remaining:23\n",
      "{'type': 'four_way_waiting', 'setting time': 6, 'destination': (1, 1), 'reaching_time': 6}\n",
      "green light!\n",
      "{'type': 'moving', 'setting time': 6, 'destination': (1, 2), 'reaching_time': 11}\n",
      "iteration: 6 ended-------------------------------------------------------\n",
      "\n",
      "iteration:7 started-------------------------------------------------\n",
      "four_way: 1, vertical_status:red v_time_remaining:25, horizontal_status:green h_time_remaining:22\n",
      "iteration: 7 ended-------------------------------------------------------\n",
      "\n",
      "iteration:8 started-------------------------------------------------\n",
      "four_way: 1, vertical_status:red v_time_remaining:24, horizontal_status:green h_time_remaining:21\n",
      "iteration: 8 ended-------------------------------------------------------\n",
      "\n",
      "iteration:9 started-------------------------------------------------\n",
      "four_way: 1, vertical_status:red v_time_remaining:23, horizontal_status:green h_time_remaining:20\n",
      "iteration: 9 ended-------------------------------------------------------\n",
      "\n",
      "iteration:10 started-------------------------------------------------\n",
      "four_way: 1, vertical_status:red v_time_remaining:22, horizontal_status:green h_time_remaining:19\n",
      "iteration: 10 ended-------------------------------------------------------\n",
      "\n",
      "iteration:11 started-------------------------------------------------\n",
      "four_way: 1, vertical_status:red v_time_remaining:21, horizontal_status:green h_time_remaining:18\n",
      "Vehicle 1 has reached the destination location:(1, 2) start_time:0, end_time:11 travel_end_time:11 \n",
      "iteration: 11 ended-------------------------------------------------------\n",
      "\n",
      "iteration:12 started-------------------------------------------------\n",
      "four_way: 1, vertical_status:red v_time_remaining:20, horizontal_status:green h_time_remaining:17\n",
      "iteration: 12 ended-------------------------------------------------------\n",
      "\n",
      "iteration:13 started-------------------------------------------------\n",
      "four_way: 1, vertical_status:red v_time_remaining:19, horizontal_status:green h_time_remaining:16\n",
      "iteration: 13 ended-------------------------------------------------------\n",
      "\n",
      "iteration:14 started-------------------------------------------------\n",
      "four_way: 1, vertical_status:red v_time_remaining:18, horizontal_status:green h_time_remaining:15\n",
      "iteration: 14 ended-------------------------------------------------------\n",
      "\n",
      "iteration:15 started-------------------------------------------------\n",
      "four_way: 1, vertical_status:red v_time_remaining:17, horizontal_status:green h_time_remaining:14\n",
      "iteration: 15 ended-------------------------------------------------------\n",
      "\n",
      "iteration:16 started-------------------------------------------------\n",
      "four_way: 1, vertical_status:red v_time_remaining:16, horizontal_status:green h_time_remaining:13\n",
      "iteration: 16 ended-------------------------------------------------------\n",
      "\n",
      "iteration:17 started-------------------------------------------------\n",
      "four_way: 1, vertical_status:red v_time_remaining:15, horizontal_status:green h_time_remaining:12\n",
      "iteration: 17 ended-------------------------------------------------------\n",
      "\n",
      "iteration:18 started-------------------------------------------------\n",
      "four_way: 1, vertical_status:red v_time_remaining:14, horizontal_status:green h_time_remaining:11\n",
      "iteration: 18 ended-------------------------------------------------------\n",
      "\n",
      "iteration:19 started-------------------------------------------------\n",
      "four_way: 1, vertical_status:red v_time_remaining:13, horizontal_status:green h_time_remaining:10\n",
      "iteration: 19 ended-------------------------------------------------------\n",
      "\n"
     ]
    }
   ],
   "source": [
    "simulation = Simulation(method , default_timer, row_count, column_count, max_iterations, max_vehicle_count, iteration_vehicle_generation, min_road_time, max_road_time, yellow_timer)\n",
    "simulation.run()"
   ]
  }
 ],
 "metadata": {
  "kernelspec": {
   "display_name": "Python 3 (ipykernel)",
   "language": "python",
   "name": "python3"
  },
  "language_info": {
   "codemirror_mode": {
    "name": "ipython",
    "version": 3
   },
   "file_extension": ".py",
   "mimetype": "text/x-python",
   "name": "python",
   "nbconvert_exporter": "python",
   "pygments_lexer": "ipython3",
   "version": "3.12.7"
  }
 },
 "nbformat": 4,
 "nbformat_minor": 2
}
