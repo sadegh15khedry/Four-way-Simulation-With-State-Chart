{
 "cells": [
  {
   "cell_type": "code",
   "execution_count": 1,
   "metadata": {},
   "outputs": [],
   "source": [
    "import sys\n",
    "import os\n",
    "sys.path.append('../src/scripts')\n",
    "sys.path.append('../src/classes')\n",
    "from simulation import Simulation"
   ]
  },
  {
   "cell_type": "code",
   "execution_count": 2,
   "metadata": {},
   "outputs": [],
   "source": [
    "row_count = 5\n",
    "column_count = 5\n",
    "max_iterations = 1000"
   ]
  },
  {
   "cell_type": "code",
   "execution_count": 3,
   "metadata": {},
   "outputs": [
    {
     "name": "stdout",
     "output_type": "stream",
     "text": [
      "road 1 generated direction 1, row_index=1, column_index=None\n",
      "road 2 generated direction 3, row_index=2, column_index=None\n",
      "road 3 generated direction 1, row_index=3, column_index=None\n",
      "road 4 generated direction 3, row_index=4, column_index=None\n",
      "road 5 generated direction 1, row_index=5, column_index=None\n",
      "road 6 generated direction 2, row_index=None, column_index=1\n",
      "road 7 generated direction 4, row_index=None, column_index=2\n",
      "road 8 generated direction 2, row_index=None, column_index=3\n",
      "road 9 generated direction 4, row_index=None, column_index=4\n",
      "road 10 generated direction 2, row_index=None, column_index=5\n",
      "initialize_vertical and horizontal _roads\n",
      "road1, added to horizontal roads\n",
      "road2, added to horizontal roads\n",
      "road3, added to horizontal roads\n",
      "road4, added to horizontal roads\n",
      "road5, added to horizontal roads\n",
      "road6, added to vertical roads\n",
      "road7, added to vertical roads\n",
      "road8, added to vertical roads\n",
      "road9, added to vertical roads\n",
      "road10, added to vertical roads\n",
      "four way 1 created between road 1 and road 6\n",
      "four way 2 created between road 1 and road 7\n",
      "four way 3 created between road 1 and road 8\n",
      "four way 4 created between road 1 and road 9\n",
      "four way 5 created between road 1 and road 10\n",
      "four way 6 created between road 2 and road 6\n",
      "four way 7 created between road 2 and road 7\n",
      "four way 8 created between road 2 and road 8\n",
      "four way 9 created between road 2 and road 9\n",
      "four way 10 created between road 2 and road 10\n",
      "four way 11 created between road 3 and road 6\n",
      "four way 12 created between road 3 and road 7\n",
      "four way 13 created between road 3 and road 8\n",
      "four way 14 created between road 3 and road 9\n",
      "four way 15 created between road 3 and road 10\n",
      "four way 16 created between road 4 and road 6\n",
      "four way 17 created between road 4 and road 7\n",
      "four way 18 created between road 4 and road 8\n",
      "four way 19 created between road 4 and road 9\n",
      "four way 20 created between road 4 and road 10\n",
      "four way 21 created between road 5 and road 6\n",
      "four way 22 created between road 5 and road 7\n",
      "four way 23 created between road 5 and road 8\n",
      "four way 24 created between road 5 and road 9\n",
      "four way 25 created between road 5 and road 10\n"
     ]
    }
   ],
   "source": [
    "simulation = Simulation(row_count, column_count, max_iterations)\n",
    "simulation.run()"
   ]
  }
 ],
 "metadata": {
  "kernelspec": {
   "display_name": "Python 3 (ipykernel)",
   "language": "python",
   "name": "python3"
  },
  "language_info": {
   "codemirror_mode": {
    "name": "ipython",
    "version": 3
   },
   "file_extension": ".py",
   "mimetype": "text/x-python",
   "name": "python",
   "nbconvert_exporter": "python",
   "pygments_lexer": "ipython3",
   "version": "3.12.7"
  }
 },
 "nbformat": 4,
 "nbformat_minor": 2
}
