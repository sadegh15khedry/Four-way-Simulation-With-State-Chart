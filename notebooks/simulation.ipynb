{
 "cells": [
  {
   "cell_type": "code",
   "execution_count": 1,
   "metadata": {},
   "outputs": [],
   "source": [
    "import sys\n",
    "import os\n",
    "sys.path.append('../src/scripts')\n",
    "sys.path.append('../src/classes')\n",
    "from simulation import simulate"
   ]
  },
  {
   "cell_type": "code",
   "execution_count": 2,
   "metadata": {},
   "outputs": [
    {
     "name": "stdout",
     "output_type": "stream",
     "text": [
      "vehicle 0 generated direction 1\n",
      "vehicle 1 generated direction 3\n",
      "vehicle 2 generated direction 1\n",
      "vehicle 3 generated direction 3\n",
      "vehicle 4 generated direction 1\n",
      "vehicle 5 generated direction 2\n",
      "vehicle 6 generated direction 4\n",
      "vehicle 7 generated direction 2\n",
      "vehicle 8 generated direction 4\n",
      "vehicle 9 generated direction 2\n"
     ]
    }
   ],
   "source": [
    "m = 5\n",
    "n = 5\n",
    "max_iterations = 1000\n",
    "simulate(m, n, max_iterations)"
   ]
  }
 ],
 "metadata": {
  "kernelspec": {
   "display_name": "Python 3 (ipykernel)",
   "language": "python",
   "name": "python3"
  },
  "language_info": {
   "codemirror_mode": {
    "name": "ipython",
    "version": 3
   },
   "file_extension": ".py",
   "mimetype": "text/x-python",
   "name": "python",
   "nbconvert_exporter": "python",
   "pygments_lexer": "ipython3",
   "version": "3.12.7"
  }
 },
 "nbformat": 4,
 "nbformat_minor": 2
}
