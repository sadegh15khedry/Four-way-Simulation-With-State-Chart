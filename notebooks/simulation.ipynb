{
 "cells": [
  {
   "cell_type": "code",
   "execution_count": null,
   "metadata": {},
   "outputs": [],
   "source": [
    "import sys\n",
    "import os\n",
    "sys.path.append('../src/scripts')\n",
    "sys.path.append('../src/classes')\n",
    "from simulation import Simulation"
   ]
  },
  {
   "cell_type": "code",
   "execution_count": null,
   "metadata": {},
   "outputs": [],
   "source": [
    "\n",
    "row_count = 5\n",
    "column_count = 5\n",
    "max_iterations = 500\n",
    "# max_vehicle_count = 100\n",
    "iteration_vehicle_generation = 100\n",
    "\n",
    "# method = 'default'\n",
    "# method = 'proposed'\n",
    "min_road_time = 5\n",
    "max_road_time = 10\n",
    "yellow_timer = 2\n",
    "default_timer = 15\n",
    "blinking_timer = 5\n",
    "crowded_thresholds = 1"
   ]
  },
  {
   "cell_type": "code",
   "execution_count": null,
   "metadata": {},
   "outputs": [],
   "source": [
    "methods = ['default', 'proposed']\n",
    "max_vehicle_counts = [300, 400, 500, 600, 700, 800, 900, 1000]\n",
    "for max_vehicle_count in max_vehicle_counts:\n",
    "    for method in methods:\n",
    "        max_iterations = max_vehicle_count * 100\n",
    "        simulation = Simulation(method , default_timer, row_count, column_count, max_iterations, max_vehicle_count, iteration_vehicle_generation, min_road_time, max_road_time, yellow_timer, blinking_timer, crowded_thresholds)\n",
    "        simulation.run()"
   ]
  }
 ],
 "metadata": {
  "kernelspec": {
   "display_name": "Python 3 (ipykernel)",
   "language": "python",
   "name": "python3"
  },
  "language_info": {
   "codemirror_mode": {
    "name": "ipython",
    "version": 3
   },
   "file_extension": ".py",
   "mimetype": "text/x-python",
   "name": "python",
   "nbconvert_exporter": "python",
   "pygments_lexer": "ipython3",
   "version": "3.12.7"
  }
 },
 "nbformat": 4,
 "nbformat_minor": 2
}
